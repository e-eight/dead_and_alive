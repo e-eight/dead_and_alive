{
 "cells": [
  {
   "cell_type": "code",
   "execution_count": 1,
   "metadata": {
    "collapsed": false
   },
   "outputs": [],
   "source": [
    "from qiskit import QuantumCircuit, BasicAer, execute\n",
    "from qiskit.circuit.library import *\n",
    "from qiskit.quantum_info import Statevector\n",
    "from qiskit.visualization import plot_bloch_multivector, plot_state_qsphere\n",
    "import numpy as np\n",
    "import matplotlib.pyplot as plt\n",
    "np.set_printoptions(suppress=True)"
   ]
  },
  {
   "cell_type": "markdown",
   "metadata": {
    "collapsed": false
   },
   "source": [
    "# Simple gates"
   ]
  },
  {
   "cell_type": "markdown",
   "metadata": {
    "collapsed": false
   },
   "source": [
    "## Plus state\n",
    "\n",
    "Input: A qubit in the state $|0\\rangle$.\n",
    "\n",
    "Goal: Change the state of the qubit to $|+\\rangle$.\n",
    "\n",
    "Solution: Apply the H-gate to the qubit."
   ]
  },
  {
   "cell_type": "code",
   "execution_count": 7,
   "metadata": {
    "collapsed": false
   },
   "outputs": [
    {
     "data": {
      "image/png": "[encoded data removed]",
      "text/plain": [
       "<Figure size 187.706x84.28 with 1 Axes>"
      ]
     },
     "metadata": {},
     "output_type": "display_data"
    },
    {
     "name": "stdout",
     "output_type": "stream",
     "text": [
      "|initial>: [1.+0.j 0.+0.j]\n",
      "|final>: [0.70710678+0.j 0.70710678+0.j]\n"
     ]
    }
   ],
   "source": [
    "# Initial state\n",
    "sv = Statevector.from_label(\"0\")\n",
    "\n",
    "# Hadamard gate\n",
    "circ = QuantumCircuit(1)\n",
    "circ.h(0)\n",
    "display(circ.draw(\"mpl\"))\n",
    "\n",
    "# Final state\n",
    "new_sv = sv.evolve(circ)\n",
    "\n",
    "print(f\"|initial>: {sv.data}\")\n",
    "print(f\"|final>: {new_sv.data}\")"
   ]
  },
  {
   "cell_type": "markdown",
   "metadata": {
    "collapsed": false
   },
   "source": [
    "## Minus state\n",
    "\n",
    "Input: A qubit in the state $|0\\rangle$.\n",
    "\n",
    "Goal: Change the state of the qubit to $|+\\rangle$.\n",
    "\n",
    "Solution: Apply the X-gate followed by the H-gate to the qubit."
   ]
  },
  {
   "cell_type": "code",
   "execution_count": 8,
   "metadata": {
    "collapsed": false
   },
   "outputs": [
    {
     "data": {
      "image/png": "[encoded data removed]",
      "text/plain": [
       "<Figure size 247.906x84.28 with 1 Axes>"
      ]
     },
     "metadata": {},
     "output_type": "display_data"
    },
    {
     "name": "stdout",
     "output_type": "stream",
     "text": [
      "|initial>: [1.+0.j 0.+0.j]\n",
      "|final>: [ 0.70710678+0.j -0.70710678+0.j]\n"
     ]
    }
   ],
   "source": [
    "# Initial state\n",
    "sv = Statevector.from_label(\"0\")\n",
    "\n",
    "# Hadamard gate\n",
    "circ = QuantumCircuit(1)\n",
    "circ.x(0)\n",
    "circ.h(0)\n",
    "display(circ.draw(\"mpl\"))\n",
    "\n",
    "# Final state\n",
    "new_sv = sv.evolve(circ)\n",
    "\n",
    "print(f\"|initial>: {sv.data}\")\n",
    "print(f\"|final>: {new_sv.data}\")"
   ]
  },
  {
   "cell_type": "markdown",
   "metadata": {
    "collapsed": false
   },
   "source": [
    "## Superposition of all basis vectors on two qubits.\n",
    "\n",
    "Input: Two qubits in the state $|00\\rangle$.\n",
    "\n",
    "Goal: Change the two qubit state to $\\frac{1}{2} (|00\\rangle + |01\\rangle + |10\\rangle + |11\\rangle)$.\n",
    "\n",
    "Solution: Apply the H-gate to both the qubits."
   ]
  },
  {
   "cell_type": "code",
   "execution_count": 9,
   "metadata": {
    "collapsed": false
   },
   "outputs": [
    {
     "data": {
      "image/png": "[encoded data removed]",
      "text/plain": [
       "<Figure size 200.832x144.48 with 1 Axes>"
      ]
     },
     "metadata": {},
     "output_type": "display_data"
    },
    {
     "name": "stdout",
     "output_type": "stream",
     "text": [
      "|initial>: [1.+0.j 0.+0.j 0.+0.j 0.+0.j]\n",
      "|final>: [0.5+0.j 0.5+0.j 0.5+0.j 0.5+0.j]\n"
     ]
    }
   ],
   "source": [
    "# Initial state\n",
    "sv = Statevector.from_label(\"00\")\n",
    "\n",
    "# Hadamard gate\n",
    "circ = QuantumCircuit(2)\n",
    "circ.h([0, 1])\n",
    "display(circ.draw(\"mpl\"))\n",
    "\n",
    "# Final state\n",
    "new_sv = sv.evolve(circ)\n",
    "\n",
    "print(f\"|initial>: {sv.data}\")\n",
    "print(f\"|final>: {new_sv.data}\")"
   ]
  },
  {
   "cell_type": "markdown",
   "metadata": {
    "collapsed": false
   },
   "source": [
    "## Superposition of basis vectors with phase flip.\n",
    "\n",
    "Input: Two qubits in the state $|00\\rangle$.\n",
    "\n",
    "Goal: Change the two qubit state to $\\frac{1}{2} (|00\\rangle + |01\\rangle + |10\\rangle - |11\\rangle)$.\n",
    "\n",
    "Solution: Apply the H-gate to both the qubits, followed by a Controlled Z-gate with the zeroth qubit as the control. Can be used as an oracle to mark the $|11\\rangle$ state."
   ]
  },
  {
   "cell_type": "code",
   "execution_count": 10,
   "metadata": {
    "collapsed": false
   },
   "outputs": [
    {
     "data": {
      "image/png": "[encoded data removed]",
      "text/plain": [
       "<Figure size 261.032x144.48 with 1 Axes>"
      ]
     },
     "metadata": {},
     "output_type": "display_data"
    },
    {
     "name": "stdout",
     "output_type": "stream",
     "text": [
      "|initial>: [1.+0.j 0.+0.j 0.+0.j 0.+0.j]\n",
      "|final>: [ 0.5+0.j  0.5+0.j  0.5+0.j -0.5+0.j]\n"
     ]
    }
   ],
   "source": [
    "# Initial state\n",
    "sv = Statevector.from_label(\"00\")\n",
    "\n",
    "# Hadamard gate\n",
    "circ = QuantumCircuit(2)\n",
    "circ.h([0, 1])\n",
    "circ.cz(0, 1)\n",
    "display(circ.draw(\"mpl\"))\n",
    "\n",
    "# Final state\n",
    "new_sv = sv.evolve(circ)\n",
    "\n",
    "print(f\"|initial>: {sv.data}\")\n",
    "print(f\"|final>: {new_sv.data}\")"
   ]
  },
  {
   "cell_type": "markdown",
   "metadata": {
    "collapsed": false
   },
   "source": [
    "## Superposition of basis vectors with phases.\n",
    "\n",
    "Input: Two qubits in the state $|00\\rangle$.\n",
    "\n",
    "Goal: Change the two qubit state to $\\frac{1}{2} (|00\\rangle + i|01\\rangle + |10\\rangle - i|11\\rangle)$.\n",
    "\n",
    "Solution: Apply the H-gate to both the qubits, followed by a Controlled Y-gate with the zeroth qubit as the control, and a Controlled X-gate with the zeroth qubit as the control. "
   ]
  },
  {
   "cell_type": "code",
   "execution_count": 12,
   "metadata": {
    "collapsed": false
   },
   "outputs": [
    {
     "data": {
      "image/png": "[encoded data removed]",
      "text/plain": [
       "<Figure size 321.232x144.48 with 1 Axes>"
      ]
     },
     "metadata": {},
     "output_type": "display_data"
    },
    {
     "name": "stdout",
     "output_type": "stream",
     "text": [
      "|initial>: [1.+0.j 0.+0.j 0.+0.j 0.+0.j]\n",
      "|final>: [0.5+0.j  0. +0.5j 0.5+0.j  0. -0.5j]\n"
     ]
    }
   ],
   "source": [
    "# Initial state\n",
    "sv = Statevector.from_label(\"00\")\n",
    "\n",
    "# Hadamard gate\n",
    "circ = QuantumCircuit(2)\n",
    "circ.h([0, 1])\n",
    "circ.cy(0, 1)\n",
    "circ.cx(0, 1)\n",
    "display(circ.draw(\"mpl\"))\n",
    "\n",
    "# Final state\n",
    "new_sv = sv.evolve(circ)\n",
    "\n",
    "print(f\"|initial>: {sv.data}\")\n",
    "print(f\"|final>: {new_sv.data}\")"
   ]
  },
  {
   "cell_type": "markdown",
   "metadata": {
    "collapsed": false
   },
   "source": [
    "## Bell state $|\\phi^+\\rangle$.\n",
    "\n",
    "Input: Two qubits in the state $|00\\rangle$.\n",
    "\n",
    "Goal: Change the two qubit state to $\\frac{1}{\\sqrt{2}} (|00\\rangle + |11\\rangle)$.\n",
    "\n",
    "Solution: Apply the H-gate to the zeroth qubit, followed by a Controlled X-gate with the zeroth qubit as the control. "
   ]
  },
  {
   "cell_type": "code",
   "execution_count": 13,
   "metadata": {
    "collapsed": false
   },
   "outputs": [
    {
     "data": {
      "image/png": "[encoded data removed]",
      "text/plain": [
       "<Figure size 261.032x144.48 with 1 Axes>"
      ]
     },
     "metadata": {},
     "output_type": "display_data"
    },
    {
     "name": "stdout",
     "output_type": "stream",
     "text": [
      "|initial>: [1.+0.j 0.+0.j 0.+0.j 0.+0.j]\n",
      "|final>: [0.70710678+0.j 0.        +0.j 0.        +0.j 0.70710678+0.j]\n"
     ]
    }
   ],
   "source": [
    "# Initial state\n",
    "sv = Statevector.from_label(\"00\")\n",
    "\n",
    "# Hadamard gate\n",
    "circ = QuantumCircuit(2)\n",
    "circ.h(0)\n",
    "circ.cx(0, 1)\n",
    "display(circ.draw(\"mpl\"))\n",
    "\n",
    "# Final state\n",
    "new_sv = sv.evolve(circ)\n",
    "\n",
    "print(f\"|initial>: {sv.data}\")\n",
    "print(f\"|final>: {new_sv.data}\")"
   ]
  },
  {
   "cell_type": "markdown",
   "metadata": {
    "collapsed": false
   },
   "source": [
    "## All Bell states.\n",
    "\n",
    "Input: Two qubits in the state $|00\\rangle$, and an integer index\n",
    "\n",
    "Goal: Change the two qubit state to one of the Bell States, depending on the index:\n",
    "\n",
    "| Index | Bell State |\n",
    "| --- | --- |\n",
    "| 0 | $|\\phi^+\\rangle$ |\n",
    "| 1 | $|\\phi^-\\rangle$ |\n",
    "| 2 | $|\\psi^+\\rangle$ |\n",
    "| 3 | $|\\psi^-\\rangle$ |\n",
    "\n",
    "Solution: For $|\\phi^+\\rangle$, we can use the same circuit as before. The other three Bell states require additional steps:\n",
    "\n",
    "| Bell State | Circuit |\n",
    "| --- | :--- |\n",
    "| $|\\phi^-\\rangle$ | $|\\phi^+\\rangle$ followed by a Z-gate on either of the qubits. | \n",
    "| $|\\psi^+\\rangle$ | $|\\phi^+\\rangle$ followed by a X-gate on the zeroth qubit. |\n",
    "| $|\\psi^-\\rangle$ | $|\\psi^+\\rangle$ followed by a Z-gate on the first qubit. |"
   ]
  },
  {
   "cell_type": "code",
   "execution_count": 16,
   "metadata": {
    "collapsed": false
   },
   "outputs": [],
   "source": [
    "def bell(index):\n",
    "    circ = QuantumCircuit(2)\n",
    "    circ.h(0)\n",
    "    circ.cx(0, 1)\n",
    "\n",
    "    if index == 1:\n",
    "        circ.z(0)\n",
    "    elif index >= 2:\n",
    "        circ.x(0)\n",
    "        if index == 3:\n",
    "            circ.z(1)\n",
    "\n",
    "    return circ"
   ]
  },
  {
   "cell_type": "code",
   "execution_count": 17,
   "metadata": {
    "collapsed": false
   },
   "outputs": [
    {
     "name": "stdout",
     "output_type": "stream",
     "text": [
      "|zero>: [1.+0.j 0.+0.j 0.+0.j 0.+0.j]\n",
      "|phi+>: [0.70710678+0.j 0.        +0.j 0.        +0.j 0.70710678+0.j]\n",
      "|phi->: [ 0.70710678+0.j  0.        +0.j  0.        +0.j -0.70710678+0.j]\n",
      "|psi+>: [0.        +0.j 0.70710678+0.j 0.70710678+0.j 0.        +0.j]\n",
      "|psi->: [ 0.        +0.j  0.70710678+0.j -0.70710678+0.j  0.        +0.j]\n"
     ]
    }
   ],
   "source": [
    "# Initial state\n",
    "sv = Statevector.from_label(\"00\")\n",
    "\n",
    "# Bell states\n",
    "phi_plus = sv.evolve(bell(0))\n",
    "phi_minus = sv.evolve(bell(1))\n",
    "psi_plus = sv.evolve(bell(2))\n",
    "psi_minus = sv.evolve(bell(3))\n",
    "\n",
    "print(f\"|zero>: {sv.data}\")\n",
    "print(f\"|phi+>: {phi_plus.data}\")\n",
    "print(f\"|phi->: {phi_minus.data}\")\n",
    "print(f\"|psi+>: {psi_plus.data}\")\n",
    "print(f\"|psi->: {psi_minus.data}\")"
   ]
  },
  {
   "cell_type": "markdown",
   "metadata": {
    "collapsed": false
   },
   "source": [
    "## Greenberger–Horne–Zeilinger (GHZ) state.\n",
    "\n",
    "Input: $N (N \\ge 1)$ qubits in the the $|0 \\ldots 0\\rangle$ state.\n",
    "\n",
    "Output: The GHZ state: $\\frac{1}{\\sqrt{2}} (|0 \\ldots 0\\rangle + |1 \\ldots 1\\rangle)$.\n",
    "\n",
    "Solution: This is a generalization of the Bell state $|\\phi^+\\rangle$, and that suggests that we can create this in a similar fashion. We will apply the H-gate to the zeroth qubit, to put it in to the equally superposed state, and then apply $N-1$ CNOT-gates with the zeroth qubit as the control and the first to the $(N-1)$ th qubits as the targets. "
   ]
  },
  {
   "cell_type": "code",
   "execution_count": 18,
   "metadata": {
    "collapsed": false
   },
   "outputs": [],
   "source": [
    "def ghz(nqubits):\n",
    "    circ = QuantumCircuit(nqubits)\n",
    "    circ.h(0)\n",
    "\n",
    "    for i in range(1, nqubits):\n",
    "        circ.cx(0, i)\n",
    "\n",
    "    return circ"
   ]
  },
  {
   "cell_type": "code",
   "execution_count": 19,
   "metadata": {
    "collapsed": false
   },
   "outputs": [
    {
     "data": {
      "image/png": "[encoded data removed]",
      "text/plain": [
       "<Figure size 504x504 with 2 Axes>"
      ]
     },
     "metadata": {},
     "output_type": "display_data"
    },
    {
     "data": {
      "image/png": "[encoded data removed]",
      "text/plain": [
       "<Figure size 504x504 with 2 Axes>"
      ]
     },
     "metadata": {},
     "output_type": "display_data"
    }
   ],
   "source": [
    "## 3 qubit GHZ state\n",
    "\n",
    "# initial state\n",
    "sv = Statevector.from_label(\"000\")\n",
    "\n",
    "# GHZ state\n",
    "ghz_3 = sv.evolve(ghz(3))\n",
    "\n",
    "display(plot_state_qsphere(sv))\n",
    "display(plot_state_qsphere(ghz_3))"
   ]
  },
  {
   "cell_type": "code",
   "execution_count": 20,
   "metadata": {
    "collapsed": false
   },
   "outputs": [],
   "source": []
  }
 ],
 "metadata": {
  "kernelspec": {
   "argv": [
    "/home/soham/Documents/quantum_computing/qiskit/.venv/bin/python",
    "-m",
    "ipykernel_launcher",
    "-f",
    "{connection_file}"
   ],
   "display_name": "Python 3 (qiskit)",
   "env": null,
   "interrupt_mode": "signal",
   "language": "python",
   "metadata": null,
   "name": ".venv"
  },
  "name": "Superposition.ipynb"
 },
 "nbformat": 4,
 "nbformat_minor": 4
}
