{
 "cells": [
  {
   "cell_type": "code",
   "execution_count": 1,
   "metadata": {
    "collapsed": false
   },
   "outputs": [],
   "source": [
    "from qiskit import QuantumCircuit, Aer, execute\n",
    "from qiskit.quantum_info import Statevector\n",
    "from qiskit.visualization import plot_bloch_multivector, plot_state_qsphere\n",
    "import numpy as np"
   ]
  },
  {
   "cell_type": "markdown",
   "metadata": {
    "collapsed": false
   },
   "source": [
    "## Flipping a qubit.\n",
    "\n",
    "Input: A qubit in the state $|\\psi\\rangle = \\alpha |0\\rangle + \\beta |1\\rangle$.\n",
    "\n",
    "Goal: A qubit in the state $|\\psi'\\rangle = |\\alpha |1\\rangle + \\beta |0\\rangle$.\n",
    "\n",
    "Solution: The $X$ gate flips a qubit from $|0\\rangle$ to $|1\\rangle$ and vice-versa."
   ]
  },
  {
   "cell_type": "code",
   "execution_count": 2,
   "metadata": {
    "collapsed": false
   },
   "outputs": [
    {
     "data": {
      "image/png": "[encoded data removed]",
      "text/plain": [
       "<Figure size 187.706x84.28 with 1 Axes>"
      ]
     },
     "execution_count": 2,
     "metadata": {},
     "output_type": "execute_result"
    }
   ],
   "source": [
    "circ = QuantumCircuit(1)\n",
    "circ.x(0)\n",
    "circ.draw(\"mpl\")"
   ]
  },
  {
   "cell_type": "markdown",
   "metadata": {
    "collapsed": false
   },
   "source": [
    "To see if this gate actually flips a qubit, we prepare a state $|\\psi\\rangle$ and then apply this gate to it."
   ]
  },
  {
   "cell_type": "code",
   "execution_count": 3,
   "metadata": {
    "collapsed": false
   },
   "outputs": [
    {
     "name": "stdout",
     "output_type": "stream",
     "text": [
      "|psi>: [0.13015784+0.j 0.99149329+0.j]\n",
      "|psip>: [0.99149329+0.j 0.13015784+0.j]\n"
     ]
    }
   ],
   "source": [
    "rng = np.random.default_rng()\n",
    "\n",
    "alpha, beta = rng.random((2,))\n",
    "norm = np.sqrt(alpha**2 + beta**2)\n",
    "alpha, beta = alpha / norm, beta / norm\n",
    "\n",
    "psi = Statevector([alpha, beta])\n",
    "psip = psi.evolve(circ)\n",
    "\n",
    "print(f\"|psi>: {psi.data}\")\n",
    "print(f\"|psip>: {psip.data}\")"
   ]
  },
  {
   "cell_type": "markdown",
   "metadata": {
    "collapsed": false
   },
   "source": [
    "## Basis change.\n",
    "\n",
    "Input: A qubit in the state $|\\psi\\rangle = \\alpha |0\\rangle + \\beta |1\\rangle$.\n",
    "\n",
    "Goal: If a qubit is in the state $|0\\rangle$, change its state to $|+\\rangle$. If it is in state $|1\\rangle$, change its state to $|-\\rangle$. If it is in a superposition state, change its state according to the effects on the basis vectors.\n",
    "\n",
    "Solution: The Hadamard or $H$ gate does the job, $H|0\\rangle = |+\\rangle$, $H|1\\rangle$. "
   ]
  },
  {
   "cell_type": "code",
   "execution_count": 4,
   "metadata": {
    "collapsed": false
   },
   "outputs": [
    {
     "data": {
      "image/png": "[encoded data removed]",
      "text/plain": [
       "<Figure size 187.706x84.28 with 1 Axes>"
      ]
     },
     "execution_count": 4,
     "metadata": {},
     "output_type": "execute_result"
    }
   ],
   "source": [
    "circ = QuantumCircuit(1)\n",
    "circ.h(0)\n",
    "circ.draw(\"mpl\")"
   ]
  },
  {
   "cell_type": "code",
   "execution_count": 5,
   "metadata": {
    "collapsed": false
   },
   "outputs": [
    {
     "name": "stdout",
     "output_type": "stream",
     "text": [
      "|+>: [0.70710678+0.j 0.70710678+0.j]\n",
      "|->: [ 0.70710678+0.j -0.70710678+0.j]\n",
      "|psih>: [ 0.79312712+0.j -0.60905613+0.j]\n"
     ]
    }
   ],
   "source": [
    "zero = Statevector([1, 0])\n",
    "one = Statevector([0, 1])\n",
    "\n",
    "plus = zero.evolve(circ)\n",
    "minus = one.evolve(circ)\n",
    "psih = psi.evolve(circ)\n",
    "\n",
    "print(f\"|+>: {plus.data}\")\n",
    "print(f\"|->: {minus.data}\")\n",
    "print(f\"|psih>: {psih.data}\")"
   ]
  },
  {
   "cell_type": "markdown",
   "metadata": {
    "collapsed": false
   },
   "source": [
    "## Sign flip\n",
    "\n",
    "Input: A qubit in the state $|\\psi\\rangle = \\alpha |0\\rangle + \\beta |1\\rangle$.\n",
    "\n",
    "Output: A qubit in the state $|\\psi'\\rangle = \\alpha |0\\rangle - \\beta |1\\rangle$.\n",
    "\n",
    "Solution: The $Z$ gate flips the sign of $|1\\rangle$. It converts $|+\\rangle$ to $|-\\rangle$. The $Z$ gate acts in the same way in the $X$ basis as the $X$ gate in the $Z$ basis."
   ]
  },
  {
   "cell_type": "code",
   "execution_count": 6,
   "metadata": {
    "collapsed": false
   },
   "outputs": [
    {
     "data": {
      "image/png": "[encoded data removed]",
      "text/plain": [
       "<Figure size 187.706x84.28 with 1 Axes>"
      ]
     },
     "execution_count": 6,
     "metadata": {},
     "output_type": "execute_result"
    }
   ],
   "source": [
    "circ = QuantumCircuit(1)\n",
    "circ.z(0)\n",
    "circ.draw(\"mpl\")"
   ]
  },
  {
   "cell_type": "code",
   "execution_count": 7,
   "metadata": {
    "collapsed": false
   },
   "outputs": [
    {
     "name": "stdout",
     "output_type": "stream",
     "text": [
      "|psi>: [0.13015784+0.j 0.99149329+0.j]\n",
      "|psi_sf>: [ 0.13015784+0.j -0.99149329+0.j]\n"
     ]
    }
   ],
   "source": [
    "psi_sf = psi.evolve(circ)\n",
    "print(f\"|psi>: {psi.data}\")\n",
    "print(f\"|psi_sf>: {psi_sf.data}\")"
   ]
  },
  {
   "cell_type": "markdown",
   "metadata": {
    "collapsed": false
   },
   "source": [
    "## Amplitude change\n",
    "\n",
    "Input: A qubit in state $|\\psi\\rangle = \\alpha|0\\rangle + \\beta|1\\rangle$, and an angle $\\theta$ in radians.\n",
    "\n",
    "Goal: If a qubit is in the state $|0\\rangle$, change its state to $\\cos\\theta|0\\rangle + \\sin\\theta|1\\rangle$. If it is in state $|0\\rangle$, change its state to $-\\sin\\theta|0\\rangle + \\cos\\theta|1\\rangle$. If it is in a superposition state, change its state according to the effects on the basis vectors. \n",
    "\n",
    "Solution: We have to use the $U_3(2\\theta, 0, 0)$ gate. The matrix representation of this gate is $$\\begin{bmatrix} \\cos\\theta & -\\sin\\theta \\\\ \\sin\\theta & \\cos\\theta \\end{bmatrix}.$$"
   ]
  },
  {
   "cell_type": "code",
   "execution_count": 8,
   "metadata": {
    "collapsed": false
   },
   "outputs": [
    {
     "data": {
      "image/png": "[encoded data removed]",
      "text/plain": [
       "<Figure size 247.906x84.28 with 1 Axes>"
      ]
     },
     "execution_count": 8,
     "metadata": {},
     "output_type": "execute_result"
    }
   ],
   "source": [
    "theta = np.pi / 6\n",
    "circ = QuantumCircuit(1)\n",
    "circ.u3(2*theta, 0, 0, 0)\n",
    "circ.draw(\"mpl\")"
   ]
  },
  {
   "cell_type": "code",
   "execution_count": 9,
   "metadata": {
    "collapsed": false
   },
   "outputs": [
    {
     "name": "stdout",
     "output_type": "stream",
     "text": [
      "|psi>: [0.13015784+0.j 0.99149329+0.j]\n",
      "|psi_ac>: [-0.38302665+0.j  0.92373729+0.j]\n"
     ]
    }
   ],
   "source": [
    "psi_ac = psi.evolve(circ)\n",
    "print(f\"|psi>: {psi.data}\")\n",
    "print(f\"|psi_ac>: {psi_ac.data}\")"
   ]
  },
  {
   "cell_type": "markdown",
   "metadata": {
    "collapsed": false
   },
   "source": [
    "## Phase flip\n",
    "\n",
    "Input: A qubit in state $|\\psi\\rangle = \\alpha|0\\rangle + \\beta|1\\rangle$.\n",
    "\n",
    "Goal: Change the qubit state to $|\\psi'\\rangle = \\alpha|0\\rangle + i\\beta|1\\rangle$.\n",
    "\n",
    "Solution: We can use the $R_\\phi$ gate for this, with $\\phi = \\pi/2$, whose matrix representation is $$\\begin{bmatrix} = 1 & 0 \\\\ 0 & i \\end{bmatrix}$$."
   ]
  },
  {
   "cell_type": "code",
   "execution_count": 10,
   "metadata": {
    "collapsed": false
   },
   "outputs": [
    {
     "data": {
      "image/png": "[encoded data removed]",
      "text/plain": [
       "<Figure size 187.706x84.28 with 1 Axes>"
      ]
     },
     "execution_count": 10,
     "metadata": {},
     "output_type": "execute_result"
    }
   ],
   "source": [
    "phi = np.pi / 2\n",
    "circ = QuantumCircuit(1)\n",
    "circ.rz(phi, 0)\n",
    "circ.draw(\"mpl\")"
   ]
  },
  {
   "cell_type": "code",
   "execution_count": 11,
   "metadata": {
    "collapsed": false
   },
   "outputs": [
    {
     "name": "stdout",
     "output_type": "stream",
     "text": [
      "|psi>: [0.13015784+0.j 0.99149329+0.j]\n",
      "|psi_pf>: [0.09203549-0.09203549j 0.70109163+0.70109163j]\n"
     ]
    }
   ],
   "source": [
    "psi_pf = psi.evolve(circ)\n",
    "print(f\"|psi>: {psi.data}\")\n",
    "print(f\"|psi_pf>: {psi_pf.data}\")"
   ]
  },
  {
   "cell_type": "code",
   "execution_count": null,
   "metadata": {
    "collapsed": false
   },
   "outputs": [],
   "source": [
    "## "
   ]
  }
 ],
 "metadata": {
  "kernelspec": {
   "argv": [
    "python",
    "-m",
    "ipykernel_launcher",
    "-f",
    "{connection_file}"
   ],
   "display_name": "Python 3",
   "env": null,
   "interrupt_mode": "signal",
   "language": "python",
   "metadata": null,
   "name": "python3"
  },
  "name": "BasicGates.ipynb"
 },
 "nbformat": 4,
 "nbformat_minor": 4
}
