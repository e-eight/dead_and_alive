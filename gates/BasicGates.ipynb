{
 "cells": [
  {
   "cell_type": "code",
   "execution_count": 71,
   "metadata": {
    "collapsed": false
   },
   "outputs": [],
   "source": [
    "from qiskit import QuantumCircuit, BasicAer, execute\n",
    "from qiskit.circuit.library import *\n",
    "from qiskit.quantum_info import Statevector\n",
    "from qiskit.visualization import plot_bloch_multivector, plot_state_qsphere\n",
    "import numpy as np\n",
    "np.set_printoptions(suppress=True)"
   ]
  },
  {
   "cell_type": "markdown",
   "metadata": {
    "collapsed": false
   },
   "source": [
    "## Flipping a qubit.\n",
    "\n",
    "Input: A qubit in the state $|\\psi\\rangle = \\alpha |0\\rangle + \\beta |1\\rangle$.\n",
    "\n",
    "Goal: A qubit in the state $|\\psi'\\rangle = |\\alpha |1\\rangle + \\beta |0\\rangle$.\n",
    "\n",
    "Solution: The $X$ gate flips a qubit from $|0\\rangle$ to $|1\\rangle$ and vice-versa."
   ]
  },
  {
   "cell_type": "code",
   "execution_count": 50,
   "metadata": {
    "collapsed": false
   },
   "outputs": [
    {
     "data": {
      "image/png": "[encoded data removed]",
      "text/plain": [
       "<Figure size 187.706x84.28 with 1 Axes>"
      ]
     },
     "execution_count": 50,
     "metadata": {},
     "output_type": "execute_result"
    }
   ],
   "source": [
    "circ = QuantumCircuit(1)\n",
    "circ.x(0)\n",
    "circ.draw(\"mpl\")"
   ]
  },
  {
   "cell_type": "markdown",
   "metadata": {
    "collapsed": false
   },
   "source": [
    "To see if this gate actually flips a qubit, we prepare a state $|\\psi\\rangle$ and then apply this gate to it."
   ]
  },
  {
   "cell_type": "code",
   "execution_count": 51,
   "metadata": {
    "collapsed": false
   },
   "outputs": [
    {
     "name": "stdout",
     "output_type": "stream",
     "text": [
      "|psi>: [0.9999+0.j 0.0109+0.j]\n",
      "|psip>: [0.0109+0.j 0.9999+0.j]\n"
     ]
    }
   ],
   "source": [
    "rng = np.random.default_rng()\n",
    "\n",
    "alpha, beta = rng.random((2,))\n",
    "norm = np.sqrt(alpha**2 + beta**2)\n",
    "alpha, beta = alpha / norm, beta / norm\n",
    "\n",
    "psi = Statevector([alpha, beta])\n",
    "psip = psi.evolve(circ)\n",
    "\n",
    "print(f\"|psi>: {psi.data}\")\n",
    "print(f\"|psip>: {psip.data}\")"
   ]
  },
  {
   "cell_type": "markdown",
   "metadata": {
    "collapsed": false
   },
   "source": [
    "## Basis change.\n",
    "\n",
    "Input: A qubit in the state $|\\psi\\rangle = \\alpha |0\\rangle + \\beta |1\\rangle$.\n",
    "\n",
    "Goal: If a qubit is in the state $|0\\rangle$, change its state to $|+\\rangle$. If it is in state $|1\\rangle$, change its state to $|-\\rangle$. If it is in a superposition state, change its state according to the effects on the basis vectors.\n",
    "\n",
    "Solution: The Hadamard or $H$ gate does the job, $H|0\\rangle = |+\\rangle$, $H|1\\rangle$. "
   ]
  },
  {
   "cell_type": "code",
   "execution_count": 52,
   "metadata": {
    "collapsed": false
   },
   "outputs": [
    {
     "data": {
      "image/png": "[encoded data removed]",
      "text/plain": [
       "<Figure size 187.706x84.28 with 1 Axes>"
      ]
     },
     "execution_count": 52,
     "metadata": {},
     "output_type": "execute_result"
    }
   ],
   "source": [
    "circ = QuantumCircuit(1)\n",
    "circ.h(0)\n",
    "circ.draw(\"mpl\")"
   ]
  },
  {
   "cell_type": "code",
   "execution_count": 53,
   "metadata": {
    "collapsed": false
   },
   "outputs": [
    {
     "name": "stdout",
     "output_type": "stream",
     "text": [
      "|+>: [0.7071+0.j 0.7071+0.j]\n",
      "|->: [ 0.7071+0.j -0.7071+0.j]\n",
      "|psih>: [0.7147+0.j 0.6994+0.j]\n"
     ]
    }
   ],
   "source": [
    "zero = Statevector([1, 0])\n",
    "one = Statevector([0, 1])\n",
    "\n",
    "plus = zero.evolve(circ)\n",
    "minus = one.evolve(circ)\n",
    "psih = psi.evolve(circ)\n",
    "\n",
    "print(f\"|+>: {plus.data}\")\n",
    "print(f\"|->: {minus.data}\")\n",
    "print(f\"|psih>: {psih.data}\")"
   ]
  },
  {
   "cell_type": "markdown",
   "metadata": {
    "collapsed": false
   },
   "source": [
    "## Sign flip\n",
    "\n",
    "Input: A qubit in the state $|\\psi\\rangle = \\alpha |0\\rangle + \\beta |1\\rangle$.\n",
    "\n",
    "Output: A qubit in the state $|\\psi'\\rangle = \\alpha |0\\rangle - \\beta |1\\rangle$.\n",
    "\n",
    "Solution: The $Z$ gate flips the sign of $|1\\rangle$. It converts $|+\\rangle$ to $|-\\rangle$. The $Z$ gate acts in the same way in the $X$ basis as the $X$ gate in the $Z$ basis."
   ]
  },
  {
   "cell_type": "code",
   "execution_count": 54,
   "metadata": {
    "collapsed": false
   },
   "outputs": [
    {
     "data": {
      "image/png": "[encoded data removed]",
      "text/plain": [
       "<Figure size 187.706x84.28 with 1 Axes>"
      ]
     },
     "execution_count": 54,
     "metadata": {},
     "output_type": "execute_result"
    }
   ],
   "source": [
    "circ = QuantumCircuit(1)\n",
    "circ.z(0)\n",
    "circ.draw(\"mpl\")"
   ]
  },
  {
   "cell_type": "code",
   "execution_count": 55,
   "metadata": {
    "collapsed": false
   },
   "outputs": [
    {
     "name": "stdout",
     "output_type": "stream",
     "text": [
      "|psi>: [0.9999+0.j 0.0109+0.j]"
     ]
    },
    {
     "name": "stdout",
     "output_type": "stream",
     "text": [
      "\n",
      "|psi_sf>: [ 0.9999+0.j -0.0109+0.j]\n"
     ]
    }
   ],
   "source": [
    "psi_sf = psi.evolve(circ)\n",
    "print(f\"|psi>: {psi.data}\")\n",
    "print(f\"|psi_sf>: {psi_sf.data}\")"
   ]
  },
  {
   "cell_type": "markdown",
   "metadata": {
    "collapsed": false
   },
   "source": [
    "## Amplitude change\n",
    "\n",
    "Input: A qubit in state $|\\psi\\rangle = \\alpha|0\\rangle + \\beta|1\\rangle$, and an angle $\\theta$ in radians.\n",
    "\n",
    "Goal: If a qubit is in the state $|0\\rangle$, change its state to $\\cos\\theta|0\\rangle + \\sin\\theta|1\\rangle$. If it is in state $|1\\rangle$, change its state to $-\\sin\\theta|0\\rangle + \\cos\\theta|1\\rangle$. If it is in a superposition state, change its state according to the effects on the basis vectors. \n",
    "\n",
    "Solution: We have to use the $U_3(2\\theta, 0, 0)$ gate. The matrix representation of this gate is $$\\begin{bmatrix} \\cos\\theta & -\\sin\\theta \\\\ \\sin\\theta & \\cos\\theta \\end{bmatrix}.$$"
   ]
  },
  {
   "cell_type": "code",
   "execution_count": 60,
   "metadata": {
    "collapsed": false
   },
   "outputs": [
    {
     "data": {
      "image/png": "[encoded data removed]",
      "text/plain": [
       "<Figure size 247.906x84.28 with 1 Axes>"
      ]
     },
     "execution_count": 60,
     "metadata": {},
     "output_type": "execute_result"
    }
   ],
   "source": [
    "def amplitude_change(theta):\n",
    "    circ = QuantumCircuit(1)\n",
    "    circ.u3(2*theta, 0, 0, 0)\n",
    "    return circ\n",
    "\n",
    "theta = np.pi / 6\n",
    "circ = amplitude_change(theta)\n",
    "circ.draw(\"mpl\")"
   ]
  },
  {
   "cell_type": "code",
   "execution_count": 62,
   "metadata": {
    "collapsed": false
   },
   "outputs": [
    {
     "name": "stdout",
     "output_type": "stream",
     "text": [
      "|psi>: [0.9999+0.j 0.0109+0.j]\n",
      "|psi_ac>: [0.8605+0.j 0.5094+0.j]\n"
     ]
    }
   ],
   "source": [
    "psi_ac = psi.evolve(circ)\n",
    "print(f\"|psi>: {psi.data}\")\n",
    "print(f\"|psi_ac>: {psi_ac.data}\")"
   ]
  },
  {
   "cell_type": "markdown",
   "metadata": {
    "collapsed": false
   },
   "source": [
    "## Phase flip\n",
    "\n",
    "Input: A qubit in state $|\\psi\\rangle = \\alpha|0\\rangle + \\beta|1\\rangle$.\n",
    "\n",
    "Goal: Change the qubit state to $|\\psi'\\rangle = \\alpha|0\\rangle + i\\beta|1\\rangle$.\n",
    "\n",
    "Solution: We can use the $U_1(\\phi)$ gate for this, with $\\phi = \\pi/2$, whose matrix representation is $$\\begin{bmatrix} = 1 & 0 \\\\ 0 & i \\end{bmatrix}$$."
   ]
  },
  {
   "cell_type": "code",
   "execution_count": 58,
   "metadata": {
    "collapsed": false
   },
   "outputs": [
    {
     "data": {
      "image/png": "[encoded data removed]",
      "text/plain": [
       "<Figure size 187.706x84.28 with 1 Axes>"
      ]
     },
     "execution_count": 58,
     "metadata": {},
     "output_type": "execute_result"
    }
   ],
   "source": [
    "phi = np.pi / 2\n",
    "circ = QuantumCircuit(1)\n",
    "circ.u1(phi, 0)\n",
    "circ.draw(\"mpl\")"
   ]
  },
  {
   "cell_type": "code",
   "execution_count": 59,
   "metadata": {
    "collapsed": false
   },
   "outputs": [
    {
     "name": "stdout",
     "output_type": "stream",
     "text": [
      "|psi>: [0.9999+0.j 0.0109+0.j]\n",
      "|psi_pf>: [0.9999+0.j     0.    +0.0109j]\n"
     ]
    }
   ],
   "source": [
    "psi_pf = psi.evolve(circ)\n",
    "print(f\"|psi>: {psi.data}\")\n",
    "print(f\"|psi_pf>: {psi_pf.data}\")"
   ]
  },
  {
   "cell_type": "markdown",
   "metadata": {
    "collapsed": false
   },
   "source": [
    "## Phase change\n",
    "\n",
    "Input: A qubit in state $|\\psi\\rangle = \\alpha|0\\rangle + \\beta|1\\rangle$, and an angle $\\theta$ in radians. \n",
    "\n",
    "Goal: If a qubit is in the state $|0\\rangle$, don't change its state. If it is in state $|1\\rangle$, change its state to $e^{i\\theta}|1\\rangle$. If it is in a superposition state, change its state according to the effects on the basis vectors. \n",
    "\n",
    "Solution: This is a generalization of the previous problem. The required gate is $U_1(\\theta)$, whose matrix representation is $$\\begin{bmatrix} 1 & 0 \\\\ 0 & e^{i\\theta} \\end{bmatrix}.$$"
   ]
  },
  {
   "cell_type": "code",
   "execution_count": 64,
   "metadata": {
    "collapsed": false
   },
   "outputs": [
    {
     "data": {
      "image/png": "[encoded data removed]",
      "text/plain": [
       "<Figure size 187.706x84.28 with 1 Axes>"
      ]
     },
     "execution_count": 64,
     "metadata": {},
     "output_type": "execute_result"
    }
   ],
   "source": [
    "def phase_change(theta):\n",
    "    circ = QuantumCircuit(1)\n",
    "    circ.u1(theta, 0)\n",
    "    return circ\n",
    "\n",
    "theta = np.pi / 6\n",
    "circ = phase_change(theta)\n",
    "circ.draw(\"mpl\")"
   ]
  },
  {
   "cell_type": "code",
   "execution_count": 66,
   "metadata": {
    "collapsed": false
   },
   "outputs": [
    {
     "name": "stdout",
     "output_type": "stream",
     "text": [
      "|psi>: [0.9999+0.j 0.0109+0.j]\n",
      "|psi_pc>: [0.9999+0.j     0.0094+0.0054j]\n"
     ]
    }
   ],
   "source": [
    "psi_pc = psi.evolve(circ)\n",
    "print(f\"|psi>: {psi.data}\")\n",
    "print(f\"|psi_pc>: {psi_pc.data}\")"
   ]
  },
  {
   "cell_type": "markdown",
   "metadata": {
    "collapsed": false
   },
   "source": [
    "## Global phase change\n",
    "\n",
    "Input: A qubit in state $|\\psi\\rangle = \\alpha|0\\rangle + \\beta|1\\rangle$.\n",
    "\n",
    "Goal: Change state of qubit to $-\\alpha|0\\rangle - \\beta|1\\rangle$.\n",
    "\n",
    "Solution: We can do this with the $R_\\phi(2\\pi)$ gate, which rotates the qubit by $\\pi$ radians around the $z$-axis. Its matrix representation is $$\\begin{bmatrix} e^{-i\\pi} & 0 \\\\ 0 & e^{i\\pi} \\end{bmatrix}.$$ A global phase change cannot be measured."
   ]
  },
  {
   "cell_type": "code",
   "execution_count": 68,
   "metadata": {
    "collapsed": false
   },
   "outputs": [
    {
     "data": {
      "image/png": "[encoded data removed]",
      "text/plain": [
       "<Figure size 187.706x84.28 with 1 Axes>"
      ]
     },
     "execution_count": 68,
     "metadata": {},
     "output_type": "execute_result"
    }
   ],
   "source": [
    "circ = QuantumCircuit(1)\n",
    "circ.rz(2 * np.pi, 0)\n",
    "circ.draw(\"mpl\")"
   ]
  },
  {
   "cell_type": "code",
   "execution_count": 69,
   "metadata": {
    "collapsed": false
   },
   "outputs": [
    {
     "name": "stdout",
     "output_type": "stream",
     "text": [
      "|psi>: [0.9999+0.j 0.0109+0.j]\n",
      "|psi_gpc>: [-0.9999-0.j -0.0109+0.j]\n"
     ]
    }
   ],
   "source": [
    "psi_gpc = psi.evolve(circ)\n",
    "print(f\"|psi>: {psi.data}\")\n",
    "print(f\"|psi_gpc>: {psi_gpc.data}\")"
   ]
  },
  {
   "cell_type": "markdown",
   "metadata": {
    "collapsed": false
   },
   "source": [
    "## Bell state change - 1\n",
    "\n",
    "Input: Two entangled qubits in the Bell state $|\\phi^+\\rangle = \\frac{1}{\\sqrt{2}}(|00\\rangle + |11\\rangle)$.\n",
    "\n",
    "Goal: Change the two qubit state to $|\\phi^-\\rangle = \\frac{1}{\\sqrt{2}}(|00\\rangle - |11\\rangle)$.\n",
    "\n",
    "Solution: This can be done with the controlled-$Z$ or $CZ$ gate, which acts as identity on the target bit if the control bit is 0, and as the $Z$ gate on the target bit if the control bit is 1. We can also do this with just the $Z$ gate acting on either of the qubits. "
   ]
  },
  {
   "cell_type": "code",
   "execution_count": 85,
   "metadata": {
    "collapsed": false
   },
   "outputs": [
    {
     "data": {
      "image/png": "[encoded data removed]",
      "text/plain": [
       "<Figure size 200.832x144.48 with 1 Axes>"
      ]
     },
     "execution_count": 85,
     "metadata": {},
     "output_type": "execute_result"
    }
   ],
   "source": [
    "circ = QuantumCircuit(2)\n",
    "circ.z(0)\n",
    "circ.draw(\"mpl\")"
   ]
  },
  {
   "cell_type": "code",
   "execution_count": 83,
   "metadata": {
    "collapsed": false
   },
   "outputs": [
    {
     "data": {
      "image/png": "[encoded data removed]",
      "text/plain": [
       "<Figure size 504x504 with 2 Axes>"
      ]
     },
     "execution_count": 83,
     "metadata": {},
     "output_type": "execute_result"
    }
   ],
   "source": [
    "# Produce bell state |\\phi^+>\n",
    "bell_plus = QuantumCircuit(2)\n",
    "bell_plus.h(0)\n",
    "bell_plus.cx(0, 1)\n",
    "display(bell_plus.draw(\"mpl\"))\n",
    "\n",
    "phi_zero = Statevector.from_label(\"00\")\n",
    "phi_plus = phi_zero.evolve(bell_plus)\n",
    "plot_state_qsphere(phi_plus)"
   ]
  },
  {
   "cell_type": "code",
   "execution_count": 86,
   "metadata": {
    "collapsed": false
   },
   "outputs": [
    {
     "data": {
      "image/png": "[encoded data removed]",
      "text/plain": [
       "<Figure size 504x504 with 2 Axes>"
      ]
     },
     "execution_count": 86,
     "metadata": {},
     "output_type": "execute_result"
    }
   ],
   "source": [
    "# change bell state |\\phi^+> to |\\phi^->\n",
    "phi_minus = phi_plus.evolve(circ)\n",
    "plot_state_qsphere(phi_minus)"
   ]
  },
  {
   "cell_type": "markdown",
   "metadata": {
    "collapsed": false
   },
   "source": [
    "## Bell state change - 2\n",
    "\n",
    "Input: Two entangled qubits in the Bell state $|\\phi^+\\rangle = \\frac{1}{\\sqrt{2}}(|00\\rangle + |11\\rangle)$.\n",
    "\n",
    "Goal: Change the two qubit state to $|\\psi^+\\rangle = \\frac{1}{\\sqrt{2}}(|01\\rangle + |10\\rangle)$.\n",
    "\n",
    "Solution: This will be possible with an $X$-gate applied to the least significant bit (or the zeroth bit)."
   ]
  },
  {
   "cell_type": "code",
   "execution_count": 87,
   "metadata": {
    "collapsed": false
   },
   "outputs": [
    {
     "data": {
      "image/png": "[encoded data removed]",
      "text/plain": [
       "<Figure size 200.832x144.48 with 1 Axes>"
      ]
     },
     "execution_count": 87,
     "metadata": {},
     "output_type": "execute_result"
    }
   ],
   "source": [
    "circ = QuantumCircuit(2)\n",
    "circ.x(0)\n",
    "circ.draw(\"mpl\")"
   ]
  },
  {
   "cell_type": "code",
   "execution_count": 88,
   "metadata": {
    "collapsed": false
   },
   "outputs": [
    {
     "data": {
      "image/png": "[encoded data removed]",
      "text/plain": [
       "<Figure size 504x504 with 2 Axes>"
      ]
     },
     "execution_count": 88,
     "metadata": {},
     "output_type": "execute_result"
    }
   ],
   "source": [
    "psi_plus = phi_plus.evolve(circ)\n",
    "plot_state_qsphere(phi_plus)\n",
    "plot_state_qsphere(psi_plus)"
   ]
  }
 ],
 "metadata": {
  "kernelspec": {
   "argv": [
    "python",
    "-m",
    "ipykernel_launcher",
    "-f",
    "{connection_file}"
   ],
   "display_name": "Python 3",
   "env": null,
   "interrupt_mode": "signal",
   "language": "python",
   "metadata": null,
   "name": "python3"
  },
  "name": "BasicGates.ipynb"
 },
 "nbformat": 4,
 "nbformat_minor": 4
}
